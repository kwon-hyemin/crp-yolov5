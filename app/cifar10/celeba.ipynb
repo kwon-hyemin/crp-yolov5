{
 "cells": [
  {
   "cell_type": "code",
   "execution_count": 1,
   "metadata": {},
   "outputs": [],
   "source": [
    "!pip3 install -q torch torchvision"
   ]
  },
  {
   "cell_type": "code",
   "execution_count": 2,
   "metadata": {},
   "outputs": [],
   "source": [
    "import torch\n",
    "import torchvision\n",
    "from torchvision import transforms\n",
    "from torchvision import datasets\n",
    "from torch.utils.data import DataLoader\n",
    "import numpy as np\n",
    "import matplotlib.pyplot as plt"
   ]
  },
  {
   "cell_type": "code",
   "execution_count": 3,
   "metadata": {},
   "outputs": [
    {
     "data": {
      "image/png": "[encoded data removed]",
      "text/plain": [
       "<Figure size 432x288 with 1 Axes>"
      ]
     },
     "metadata": {
      "needs_background": "light"
     },
     "output_type": "display_data"
    },
    {
     "name": "stdout",
     "output_type": "stream",
     "text": [
      "4\n",
      "torch.Size([1, 28, 28])\n"
     ]
    }
   ],
   "source": [
    "mnist_dataset = datasets.MNIST(root='../data', train=True, transform = transforms.ToTensor(), download=True)\n",
    "\n",
    "def show(img,renorm=False,nrow=8,interpolation='bicubic'):\n",
    "  if renorm:\n",
    "    img = img/2 + 0.5\n",
    "  img_grid = torchvision.utils.make_grid(img,nrow=nrow).numpy()\n",
    "  plt.figure()\n",
    "  plt.imshow(np.transpose(img_grid, (1,2,0)), interpolation=interpolation)\n",
    "  plt.axis('off')\n",
    "  plt.show()\n",
    "\n",
    "image, label =  mnist_dataset.__getitem__(2)\n",
    "show(image)\n",
    "print(label)\n",
    "print(image.shape)"
   ]
  },
  {
   "cell_type": "code",
   "execution_count": 4,
   "metadata": {},
   "outputs": [
    {
     "name": "stderr",
     "output_type": "stream",
     "text": [
      "'wget'��(��) ���� �Ǵ� �ܺ� ����, ������ �� �ִ� ���α׷�, �Ǵ�\n",
      "��ġ ������ �ƴմϴ�.\n"
     ]
    }
   ],
   "source": [
    "!mkdir data_faces && wget https://s3-us-west-1.amazonaws.com/udacity-dlnfd/datasets/celeba.zip"
   ]
  },
  {
   "cell_type": "code",
   "execution_count": 5,
   "metadata": {},
   "outputs": [
    {
     "ename": "FileNotFoundError",
     "evalue": "[Errno 2] No such file or directory: 'celeba.zip'",
     "output_type": "error",
     "traceback": [
      "\u001b[1;31m---------------------------------------------------------------------------\u001b[0m",
      "\u001b[1;31mFileNotFoundError\u001b[0m                         Traceback (most recent call last)",
      "\u001b[1;32mc:\\Users\\bitcamp\\Melbourne\\crp-yolov5\\app\\cifar10\\celeba.ipynb Cell 5'\u001b[0m in \u001b[0;36m<cell line: 2>\u001b[1;34m()\u001b[0m\n\u001b[0;32m      <a href='vscode-notebook-cell:/c%3A/Users/bitcamp/Melbourne/crp-yolov5/app/cifar10/celeba.ipynb#ch0000004?line=0'>1</a>\u001b[0m \u001b[39mimport\u001b[39;00m \u001b[39mzipfile\u001b[39;00m\n\u001b[1;32m----> <a href='vscode-notebook-cell:/c%3A/Users/bitcamp/Melbourne/crp-yolov5/app/cifar10/celeba.ipynb#ch0000004?line=1'>2</a>\u001b[0m \u001b[39mwith\u001b[39;00m zipfile\u001b[39m.\u001b[39;49mZipFile(\u001b[39m'\u001b[39;49m\u001b[39mceleba.zip\u001b[39;49m\u001b[39m'\u001b[39;49m,\u001b[39m'\u001b[39;49m\u001b[39mr\u001b[39;49m\u001b[39m'\u001b[39;49m) \u001b[39mas\u001b[39;00m zip_ref:\n\u001b[0;32m      <a href='vscode-notebook-cell:/c%3A/Users/bitcamp/Melbourne/crp-yolov5/app/cifar10/celeba.ipynb#ch0000004?line=2'>3</a>\u001b[0m     zip_ref\u001b[39m.\u001b[39mextractall(\u001b[39m'\u001b[39m\u001b[39mdata_faces/\u001b[39m\u001b[39m'\u001b[39m)\n",
      "File \u001b[1;32mc:\\ProgramData\\Anaconda3\\envs\\crp-yolo\\lib\\zipfile.py:1251\u001b[0m, in \u001b[0;36mZipFile.__init__\u001b[1;34m(self, file, mode, compression, allowZip64, compresslevel, strict_timestamps)\u001b[0m\n\u001b[0;32m   1249\u001b[0m \u001b[39mwhile\u001b[39;00m \u001b[39mTrue\u001b[39;00m:\n\u001b[0;32m   1250\u001b[0m     \u001b[39mtry\u001b[39;00m:\n\u001b[1;32m-> 1251\u001b[0m         \u001b[39mself\u001b[39m\u001b[39m.\u001b[39mfp \u001b[39m=\u001b[39m io\u001b[39m.\u001b[39;49mopen(file, filemode)\n\u001b[0;32m   1252\u001b[0m     \u001b[39mexcept\u001b[39;00m \u001b[39mOSError\u001b[39;00m:\n\u001b[0;32m   1253\u001b[0m         \u001b[39mif\u001b[39;00m filemode \u001b[39min\u001b[39;00m modeDict:\n",
      "\u001b[1;31mFileNotFoundError\u001b[0m: [Errno 2] No such file or directory: 'celeba.zip'"
     ]
    }
   ],
   "source": [
    "import zipfile\n",
    "with zipfile.ZipFile('celeba.zip','r') as zip_ref:\n",
    "    zip_ref.extractall('data_faces/')"
   ]
  },
  {
   "cell_type": "code",
   "execution_count": 6,
   "metadata": {},
   "outputs": [
    {
     "ename": "FileNotFoundError",
     "evalue": "[WinError 3] 지정된 경로를 찾을 수 없습니다: 'data_faces/img_align_celeba'",
     "output_type": "error",
     "traceback": [
      "\u001b[1;31m---------------------------------------------------------------------------\u001b[0m",
      "\u001b[1;31mFileNotFoundError\u001b[0m                         Traceback (most recent call last)",
      "\u001b[1;32mc:\\Users\\bitcamp\\Melbourne\\crp-yolov5\\app\\cifar10\\celeba.ipynb Cell 6'\u001b[0m in \u001b[0;36m<cell line: 3>\u001b[1;34m()\u001b[0m\n\u001b[0;32m      <a href='vscode-notebook-cell:/c%3A/Users/bitcamp/Melbourne/crp-yolov5/app/cifar10/celeba.ipynb#ch0000005?line=0'>1</a>\u001b[0m \u001b[39mimport\u001b[39;00m \u001b[39mos\u001b[39;00m\n\u001b[0;32m      <a href='vscode-notebook-cell:/c%3A/Users/bitcamp/Melbourne/crp-yolov5/app/cifar10/celeba.ipynb#ch0000005?line=1'>2</a>\u001b[0m root \u001b[39m=\u001b[39m \u001b[39m'\u001b[39m\u001b[39mdata_faces/img_align_celeba\u001b[39m\u001b[39m'\u001b[39m\n\u001b[1;32m----> <a href='vscode-notebook-cell:/c%3A/Users/bitcamp/Melbourne/crp-yolov5/app/cifar10/celeba.ipynb#ch0000005?line=2'>3</a>\u001b[0m img_list \u001b[39m=\u001b[39m os\u001b[39m.\u001b[39;49mlistdir(root)\n\u001b[0;32m      <a href='vscode-notebook-cell:/c%3A/Users/bitcamp/Melbourne/crp-yolov5/app/cifar10/celeba.ipynb#ch0000005?line=3'>4</a>\u001b[0m \u001b[39mprint\u001b[39m(img_list)\n",
      "\u001b[1;31mFileNotFoundError\u001b[0m: [WinError 3] 지정된 경로를 찾을 수 없습니다: 'data_faces/img_align_celeba'"
     ]
    }
   ],
   "source": [
    "import os\n",
    "root = 'data_faces/img_align_celeba'\n",
    "img_list = os.listdir(root)\n",
    "print(img_list)"
   ]
  },
  {
   "cell_type": "code",
   "execution_count": 7,
   "metadata": {},
   "outputs": [
    {
     "ename": "TypeError",
     "evalue": "plot_image() missing 1 required positional argument: 'align'",
     "output_type": "error",
     "traceback": [
      "\u001b[1;31m---------------------------------------------------------------------------\u001b[0m",
      "\u001b[1;31mTypeError\u001b[0m                                 Traceback (most recent call last)",
      "\u001b[1;32mc:\\Users\\bitcamp\\Melbourne\\crp-yolov5\\app\\cifar10\\celeba.ipynb Cell 7'\u001b[0m in \u001b[0;36m<cell line: 26>\u001b[1;34m()\u001b[0m\n\u001b[0;32m     <a href='vscode-notebook-cell:/c%3A/Users/bitcamp/Melbourne/crp-yolov5/app/cifar10/celeba.ipynb#ch0000006?line=23'>24</a>\u001b[0m        ax\u001b[39m.\u001b[39mscatter(leftmouth_x,  leftmouth_y)\n\u001b[0;32m     <a href='vscode-notebook-cell:/c%3A/Users/bitcamp/Melbourne/crp-yolov5/app/cifar10/celeba.ipynb#ch0000006?line=24'>25</a>\u001b[0m        ax\u001b[39m.\u001b[39mscatter(rightmouth_x, rightmouth_y)\n\u001b[1;32m---> <a href='vscode-notebook-cell:/c%3A/Users/bitcamp/Melbourne/crp-yolov5/app/cifar10/celeba.ipynb#ch0000006?line=25'>26</a>\u001b[0m plot_image()\n",
      "\u001b[1;31mTypeError\u001b[0m: plot_image() missing 1 required positional argument: 'align'"
     ]
    }
   ],
   "source": [
    " def plot_image(align,nrow=2):   \n",
    "    figsize = (20,10)\n",
    "    ncol = 5\n",
    "    fig = plt.figure(figsize=figsize)\n",
    "    N = nrow*ncol\n",
    "    for i, myid in enumerate(align[\"image_id\"][:N]):\n",
    "        image = load_img(dir_data + \"/\" + myid)\n",
    "        image = img_to_array(image)/255.0\n",
    "\n",
    "        (_, \n",
    "         lefteye_x,    lefteye_y,\n",
    "         righteye_x,   righteye_y, \n",
    "         nose_x,       nose_y,\n",
    "         leftmouth_x,  leftmouth_y, \n",
    "         rightmouth_x, rightmouth_y) = align.iloc[i]\n",
    "\n",
    "\n",
    "        ax  = fig.add_subplot(nrow,ncol,i+1)\n",
    "        ax.imshow(image)\n",
    "        ax.set_title(image.shape)\n",
    "        ax.scatter(lefteye_x,    lefteye_y)\n",
    "        ax.scatter(righteye_x,   righteye_y)\n",
    "        ax.scatter(nose_x,       nose_y)\n",
    "        ax.scatter(leftmouth_x,  leftmouth_y)\n",
    "        ax.scatter(rightmouth_x, rightmouth_y)\n",
    "plot_image()"
   ]
  },
  {
   "cell_type": "code",
   "execution_count": 8,
   "metadata": {},
   "outputs": [],
   "source": [
    "import pandas as pd\n",
    "import plotly.offline as offline\n",
    "import plotly.graph_objs as go"
   ]
  },
  {
   "cell_type": "code",
   "execution_count": 9,
   "metadata": {},
   "outputs": [],
   "source": [
    "class Machine:\n",
    "    def __init__(self):\n",
    "        self.code_df = pd.DataFrame({'name' : [], 'code' : []})\n",
    "\n",
    "    def krx_crawl(self):\n",
    "        self.code_df = pd.read_html('http://kind.krx.co.kr/corpgeneral/corpList.do?method=download&searchType=13',\n",
    "                                    header=0)[0]\n",
    "        self.code_df.종목코드 = self.code_df.종목코드.map('{:06d}'.format)\n",
    "        self.code_df = self.code_df[['회사명','종목코드']]\n",
    "        self.code_df = self.code_df.rename(columns={'회사명':'name','종목코드':'code'})\n",
    "\n",
    "    def createDataframe(self, code):\n",
    "        df = pd.DataFrame()\n",
    "        for page in range(1, 21):\n",
    "            pg_url = 'https://finance.naver.com/item/sise_day.nhn?code={code}&page={page}'.format(code=code, page=page)\n",
    "            df = df.append(pd.read_html(pg_url, header=0)[0], ignore_index=True)\n",
    "            df.dropna(inplace=True)\n",
    "        return df\n",
    "\n",
    "    def rename_item_name(self, param):\n",
    "        df = param.rename(columns = {'날짜':'date', '종가':'close','전일비':'diff',\n",
    "                                           '시가':'open','고가':'high','저가':'low','거래량':'volumn'})\n",
    "        df[['close', 'diff', 'open', 'high', 'low', 'volumn']] = \\\n",
    "            df[['close','diff','open','high','low','volumn']].astype(int)\n",
    "        df['date'] = pd.to_datetime(df['date'])\n",
    "        return df.sort_values(by=['date'], ascending=True)"
   ]
  },
  {
   "cell_type": "code",
   "execution_count": 10,
   "metadata": {},
   "outputs": [
    {
     "name": "stdout",
     "output_type": "stream",
     "text": [
      "MENU \n",
      " 0. EXIT 1. 종목컬럼 2. 전처리결과\n"
     ]
    }
   ],
   "source": [
    "m = Machine()\n",
    "def print_menu():\n",
    "    print('MENU \\n 0. EXIT 1. 종목컬럼 2. 전처리결과')\n",
    "    return input(\"메뉴 선택\")\n",
    "\n",
    "\n",
    "while 1:\n",
    "    menu = print_menu()\n",
    "    print('MENU %s \\n' % menu)\n",
    "    if menu == '0':\n",
    "        break\n",
    "    elif menu == '1':\n",
    "        print(m.createDataframe('005930'))\n",
    "    elif menu == '2':\n",
    "        print(m.rename_item_name(m.createDataframe('005930')))"
   ]
  },
  {
   "cell_type": "code",
   "execution_count": 1,
   "metadata": {},
   "outputs": [
    {
     "ename": "ModuleNotFoundError",
     "evalue": "No module named 'termios'",
     "output_type": "error",
     "traceback": [
      "\u001b[1;31m---------------------------------------------------------------------------\u001b[0m",
      "\u001b[1;31mModuleNotFoundError\u001b[0m                       Traceback (most recent call last)",
      "\u001b[1;32mc:\\Users\\bitcamp\\Melbourne\\crp-yolov5\\app\\cifar10\\celeba.ipynb Cell 1'\u001b[0m in \u001b[0;36m<cell line: 1>\u001b[1;34m()\u001b[0m\n\u001b[1;32m----> <a href='vscode-notebook-cell:/c%3A/Users/bitcamp/Melbourne/crp-yolov5/app/cifar10/celeba.ipynb#ch0000000?line=0'>1</a>\u001b[0m \u001b[39mfrom\u001b[39;00m \u001b[39mgoogle\u001b[39;00m\u001b[39m.\u001b[39;00m\u001b[39mcolab\u001b[39;00m \u001b[39mimport\u001b[39;00m auth\n\u001b[0;32m      <a href='vscode-notebook-cell:/c%3A/Users/bitcamp/Melbourne/crp-yolov5/app/cifar10/celeba.ipynb#ch0000000?line=1'>2</a>\u001b[0m auth\u001b[39m.\u001b[39mauthenticate_user()\n\u001b[0;32m      <a href='vscode-notebook-cell:/c%3A/Users/bitcamp/Melbourne/crp-yolov5/app/cifar10/celeba.ipynb#ch0000000?line=2'>3</a>\u001b[0m \u001b[39mfrom\u001b[39;00m \u001b[39mgoogle\u001b[39;00m\u001b[39m.\u001b[39;00m\u001b[39mcolab\u001b[39;00m \u001b[39mimport\u001b[39;00m drive\n",
      "File \u001b[1;32mc:\\ProgramData\\Anaconda3\\envs\\crp-yolo\\lib\\site-packages\\google\\colab\\__init__.py:23\u001b[0m, in \u001b[0;36m<module>\u001b[1;34m\u001b[0m\n\u001b[0;32m     21\u001b[0m \u001b[39mfrom\u001b[39;00m \u001b[39mgoogle\u001b[39;00m\u001b[39m.\u001b[39;00m\u001b[39mcolab\u001b[39;00m \u001b[39mimport\u001b[39;00m _installation_commands\n\u001b[0;32m     22\u001b[0m \u001b[39mfrom\u001b[39;00m \u001b[39mgoogle\u001b[39;00m\u001b[39m.\u001b[39;00m\u001b[39mcolab\u001b[39;00m \u001b[39mimport\u001b[39;00m _shell_customizations\n\u001b[1;32m---> 23\u001b[0m \u001b[39mfrom\u001b[39;00m \u001b[39mgoogle\u001b[39;00m\u001b[39m.\u001b[39;00m\u001b[39mcolab\u001b[39;00m \u001b[39mimport\u001b[39;00m _system_commands\n\u001b[0;32m     24\u001b[0m \u001b[39mfrom\u001b[39;00m \u001b[39mgoogle\u001b[39;00m\u001b[39m.\u001b[39;00m\u001b[39mcolab\u001b[39;00m \u001b[39mimport\u001b[39;00m _tensorflow_magics\n\u001b[0;32m     25\u001b[0m \u001b[39mfrom\u001b[39;00m \u001b[39mgoogle\u001b[39;00m\u001b[39m.\u001b[39;00m\u001b[39mcolab\u001b[39;00m \u001b[39mimport\u001b[39;00m auth\n",
      "File \u001b[1;32mc:\\ProgramData\\Anaconda3\\envs\\crp-yolo\\lib\\site-packages\\google\\colab\\_system_commands.py:24\u001b[0m, in \u001b[0;36m<module>\u001b[1;34m\u001b[0m\n\u001b[0;32m     22\u001b[0m \u001b[39mimport\u001b[39;00m \u001b[39mlocale\u001b[39;00m\n\u001b[0;32m     23\u001b[0m \u001b[39mimport\u001b[39;00m \u001b[39mos\u001b[39;00m\n\u001b[1;32m---> 24\u001b[0m \u001b[39mimport\u001b[39;00m \u001b[39mpty\u001b[39;00m\n\u001b[0;32m     25\u001b[0m \u001b[39mimport\u001b[39;00m \u001b[39mselect\u001b[39;00m\n\u001b[0;32m     26\u001b[0m \u001b[39mimport\u001b[39;00m \u001b[39msignal\u001b[39;00m\n",
      "File \u001b[1;32mc:\\ProgramData\\Anaconda3\\envs\\crp-yolo\\lib\\pty.py:12\u001b[0m, in \u001b[0;36m<module>\u001b[1;34m\u001b[0m\n\u001b[0;32m     10\u001b[0m \u001b[39mimport\u001b[39;00m \u001b[39mos\u001b[39;00m\n\u001b[0;32m     11\u001b[0m \u001b[39mimport\u001b[39;00m \u001b[39msys\u001b[39;00m\n\u001b[1;32m---> 12\u001b[0m \u001b[39mimport\u001b[39;00m \u001b[39mtty\u001b[39;00m\n\u001b[0;32m     14\u001b[0m __all__ \u001b[39m=\u001b[39m [\u001b[39m\"\u001b[39m\u001b[39mopenpty\u001b[39m\u001b[39m\"\u001b[39m,\u001b[39m\"\u001b[39m\u001b[39mfork\u001b[39m\u001b[39m\"\u001b[39m,\u001b[39m\"\u001b[39m\u001b[39mspawn\u001b[39m\u001b[39m\"\u001b[39m]\n\u001b[0;32m     16\u001b[0m STDIN_FILENO \u001b[39m=\u001b[39m \u001b[39m0\u001b[39m\n",
      "File \u001b[1;32mc:\\ProgramData\\Anaconda3\\envs\\crp-yolo\\lib\\tty.py:5\u001b[0m, in \u001b[0;36m<module>\u001b[1;34m\u001b[0m\n\u001b[0;32m      1\u001b[0m \u001b[39m\"\"\"Terminal utilities.\"\"\"\u001b[39;00m\n\u001b[0;32m      3\u001b[0m \u001b[39m# Author: Steen Lumholt.\u001b[39;00m\n\u001b[1;32m----> 5\u001b[0m \u001b[39mfrom\u001b[39;00m \u001b[39mtermios\u001b[39;00m \u001b[39mimport\u001b[39;00m \u001b[39m*\u001b[39m\n\u001b[0;32m      7\u001b[0m __all__ \u001b[39m=\u001b[39m [\u001b[39m\"\u001b[39m\u001b[39msetraw\u001b[39m\u001b[39m\"\u001b[39m, \u001b[39m\"\u001b[39m\u001b[39msetcbreak\u001b[39m\u001b[39m\"\u001b[39m]\n\u001b[0;32m      9\u001b[0m \u001b[39m# Indexes for termios list.\u001b[39;00m\n",
      "\u001b[1;31mModuleNotFoundError\u001b[0m: No module named 'termios'"
     ]
    }
   ],
   "source": [
    "from google.colab import auth\n",
    "auth.authenticate_user()\n",
    "from google.colab import drive\n",
    "drive.mount('/content/gdrive')\n",
    "root_dir = \"/content/gdrive/My Drive/\"\n",
    "import pandas as pd\n",
    "df = pd.read_csv(root_dir+'NSE-Tata-Global-Beverages-Limited.csv')"
   ]
  },
  {
   "cell_type": "code",
   "execution_count": null,
   "metadata": {},
   "outputs": [],
   "source": []
  }
 ],
 "metadata": {
  "kernelspec": {
   "display_name": "Python 3.8.13 ('crp-yolo')",
   "language": "python",
   "name": "python3"
  },
  "language_info": {
   "codemirror_mode": {
    "name": "ipython",
    "version": 3
   },
   "file_extension": ".py",
   "mimetype": "text/x-python",
   "name": "python",
   "nbconvert_exporter": "python",
   "pygments_lexer": "ipython3",
   "version": "3.8.13"
  },
  "orig_nbformat": 4,
  "vscode": {
   "interpreter": {
    "hash": "85655d326657acff456c3f00d35448c6c67e6a1f13b4085d359f5fec2477f390"
   }
  }
 },
 "nbformat": 4,
 "nbformat_minor": 2
}
