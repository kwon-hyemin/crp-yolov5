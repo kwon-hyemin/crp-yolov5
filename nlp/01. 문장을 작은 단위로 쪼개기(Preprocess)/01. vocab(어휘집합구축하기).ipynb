{
  "cells": [
    {
      "cell_type": "markdown",
      "metadata": {
        "id": "8oaGGhdmYKqt"
      },
      "source": [
        "# 패키지 설치\n",
        "pip 명령어로 의존성 있는 패키지를 설치합니다.\n",
        "\n"
      ]
    },
    {
      "cell_type": "code",
      "execution_count": 9,
      "metadata": {
        "id": "t8TJkXkpDnSq"
      },
      "outputs": [
        {
          "name": "stdout",
          "output_type": "stream",
          "text": [
            "Requirement already satisfied: ratsnlp in c:\\programdata\\anaconda3\\envs\\crp-yolo\\lib\\site-packages (1.0.52)\n",
            "Requirement already satisfied: Korpora>=0.2.0 in c:\\programdata\\anaconda3\\envs\\crp-yolo\\lib\\site-packages (from ratsnlp) (0.2.0)\n",
            "Requirement already satisfied: flask-cors>=3.0.10 in c:\\programdata\\anaconda3\\envs\\crp-yolo\\lib\\site-packages (from ratsnlp) (3.0.10)\n",
            "Requirement already satisfied: pytorch-lightning==1.6.1 in c:\\programdata\\anaconda3\\envs\\crp-yolo\\lib\\site-packages (from ratsnlp) (1.6.1)\n",
            "Requirement already satisfied: flask-ngrok>=0.0.25 in c:\\programdata\\anaconda3\\envs\\crp-yolo\\lib\\site-packages (from ratsnlp) (0.0.25)\n",
            "Requirement already satisfied: flask>=1.1.4 in c:\\programdata\\anaconda3\\envs\\crp-yolo\\lib\\site-packages (from ratsnlp) (2.1.2)\n",
            "Requirement already satisfied: transformers==4.10.0 in c:\\programdata\\anaconda3\\envs\\crp-yolo\\lib\\site-packages (from ratsnlp) (4.10.0)\n",
            "Requirement already satisfied: packaging>=17.0 in c:\\programdata\\anaconda3\\envs\\crp-yolo\\lib\\site-packages (from pytorch-lightning==1.6.1->ratsnlp) (21.3)\n",
            "Requirement already satisfied: torch>=1.8.* in c:\\programdata\\anaconda3\\envs\\crp-yolo\\lib\\site-packages (from pytorch-lightning==1.6.1->ratsnlp) (1.12.0)\n",
            "Requirement already satisfied: torchmetrics>=0.4.1 in c:\\programdata\\anaconda3\\envs\\crp-yolo\\lib\\site-packages (from pytorch-lightning==1.6.1->ratsnlp) (0.9.2)\n",
            "Requirement already satisfied: numpy>=1.17.2 in c:\\programdata\\anaconda3\\envs\\crp-yolo\\lib\\site-packages (from pytorch-lightning==1.6.1->ratsnlp) (1.22.3)\n",
            "Requirement already satisfied: fsspec[http]!=2021.06.0,>=2021.05.0 in c:\\programdata\\anaconda3\\envs\\crp-yolo\\lib\\site-packages (from pytorch-lightning==1.6.1->ratsnlp) (2022.5.0)\n",
            "Requirement already satisfied: PyYAML>=5.4 in c:\\programdata\\anaconda3\\envs\\crp-yolo\\lib\\site-packages (from pytorch-lightning==1.6.1->ratsnlp) (6.0)\n",
            "Requirement already satisfied: tensorboard>=2.2.0 in c:\\programdata\\anaconda3\\envs\\crp-yolo\\lib\\site-packages (from pytorch-lightning==1.6.1->ratsnlp) (2.9.1)\n",
            "Requirement already satisfied: pyDeprecate<0.4.0,>=0.3.1 in c:\\programdata\\anaconda3\\envs\\crp-yolo\\lib\\site-packages (from pytorch-lightning==1.6.1->ratsnlp) (0.3.2)\n",
            "Requirement already satisfied: tqdm>=4.41.0 in c:\\programdata\\anaconda3\\envs\\crp-yolo\\lib\\site-packages (from pytorch-lightning==1.6.1->ratsnlp) (4.64.0)\n",
            "Requirement already satisfied: typing-extensions>=4.0.0 in c:\\programdata\\anaconda3\\envs\\crp-yolo\\lib\\site-packages (from pytorch-lightning==1.6.1->ratsnlp) (4.3.0)\n",
            "Requirement already satisfied: regex!=2019.12.17 in c:\\programdata\\anaconda3\\envs\\crp-yolo\\lib\\site-packages (from transformers==4.10.0->ratsnlp) (2022.6.2)\n",
            "Requirement already satisfied: requests in c:\\programdata\\anaconda3\\envs\\crp-yolo\\lib\\site-packages (from transformers==4.10.0->ratsnlp) (2.28.1)\n",
            "Requirement already satisfied: huggingface-hub>=0.0.12 in c:\\programdata\\anaconda3\\envs\\crp-yolo\\lib\\site-packages (from transformers==4.10.0->ratsnlp) (0.8.1)\n",
            "Requirement already satisfied: sacremoses in c:\\programdata\\anaconda3\\envs\\crp-yolo\\lib\\site-packages (from transformers==4.10.0->ratsnlp) (0.0.53)\n",
            "Requirement already satisfied: filelock in c:\\programdata\\anaconda3\\envs\\crp-yolo\\lib\\site-packages (from transformers==4.10.0->ratsnlp) (3.7.1)\n",
            "Requirement already satisfied: tokenizers<0.11,>=0.10.1 in c:\\programdata\\anaconda3\\envs\\crp-yolo\\lib\\site-packages (from transformers==4.10.0->ratsnlp) (0.10.3)\n",
            "Requirement already satisfied: itsdangerous>=2.0 in c:\\programdata\\anaconda3\\envs\\crp-yolo\\lib\\site-packages (from flask>=1.1.4->ratsnlp) (2.1.2)\n",
            "Requirement already satisfied: Werkzeug>=2.0 in c:\\programdata\\anaconda3\\envs\\crp-yolo\\lib\\site-packages (from flask>=1.1.4->ratsnlp) (2.1.2)\n",
            "Requirement already satisfied: click>=8.0 in c:\\programdata\\anaconda3\\envs\\crp-yolo\\lib\\site-packages (from flask>=1.1.4->ratsnlp) (8.1.3)\n",
            "Requirement already satisfied: importlib-metadata>=3.6.0 in c:\\programdata\\anaconda3\\envs\\crp-yolo\\lib\\site-packages (from flask>=1.1.4->ratsnlp) (4.12.0)\n",
            "Requirement already satisfied: Jinja2>=3.0 in c:\\programdata\\anaconda3\\envs\\crp-yolo\\lib\\site-packages (from flask>=1.1.4->ratsnlp) (3.1.2)\n",
            "Requirement already satisfied: colorama in c:\\programdata\\anaconda3\\envs\\crp-yolo\\lib\\site-packages (from click>=8.0->flask>=1.1.4->ratsnlp) (0.4.5)\n",
            "Requirement already satisfied: Six in c:\\users\\bitcamp\\appdata\\roaming\\python\\python38\\site-packages (from flask-cors>=3.0.10->ratsnlp) (1.15.0)\n",
            "Requirement already satisfied: aiohttp in c:\\programdata\\anaconda3\\envs\\crp-yolo\\lib\\site-packages (from fsspec[http]!=2021.06.0,>=2021.05.0->pytorch-lightning==1.6.1->ratsnlp) (3.8.1)\n",
            "Requirement already satisfied: zipp>=0.5 in c:\\programdata\\anaconda3\\envs\\crp-yolo\\lib\\site-packages (from importlib-metadata>=3.6.0->flask>=1.1.4->ratsnlp) (3.8.0)\n",
            "Requirement already satisfied: MarkupSafe>=2.0 in c:\\programdata\\anaconda3\\envs\\crp-yolo\\lib\\site-packages (from Jinja2>=3.0->flask>=1.1.4->ratsnlp) (2.1.1)\n",
            "Requirement already satisfied: dataclasses>=0.6 in c:\\programdata\\anaconda3\\envs\\crp-yolo\\lib\\site-packages (from Korpora>=0.2.0->ratsnlp) (0.6)\n",
            "Requirement already satisfied: xlrd>=1.2.0 in c:\\programdata\\anaconda3\\envs\\crp-yolo\\lib\\site-packages (from Korpora>=0.2.0->ratsnlp) (2.0.1)\n",
            "Requirement already satisfied: pyparsing!=3.0.5,>=2.0.2 in c:\\programdata\\anaconda3\\envs\\crp-yolo\\lib\\site-packages (from packaging>=17.0->pytorch-lightning==1.6.1->ratsnlp) (3.0.9)\n",
            "Requirement already satisfied: idna<4,>=2.5 in c:\\programdata\\anaconda3\\envs\\crp-yolo\\lib\\site-packages (from requests->transformers==4.10.0->ratsnlp) (3.3)\n",
            "Requirement already satisfied: certifi>=2017.4.17 in c:\\programdata\\anaconda3\\envs\\crp-yolo\\lib\\site-packages (from requests->transformers==4.10.0->ratsnlp) (2022.6.15)\n",
            "Requirement already satisfied: charset-normalizer<3,>=2 in c:\\programdata\\anaconda3\\envs\\crp-yolo\\lib\\site-packages (from requests->transformers==4.10.0->ratsnlp) (2.1.0)\n",
            "Requirement already satisfied: urllib3<1.27,>=1.21.1 in c:\\programdata\\anaconda3\\envs\\crp-yolo\\lib\\site-packages (from requests->transformers==4.10.0->ratsnlp) (1.26.9)\n",
            "Requirement already satisfied: setuptools>=41.0.0 in c:\\programdata\\anaconda3\\envs\\crp-yolo\\lib\\site-packages (from tensorboard>=2.2.0->pytorch-lightning==1.6.1->ratsnlp) (61.2.0)\n",
            "Requirement already satisfied: google-auth-oauthlib<0.5,>=0.4.1 in c:\\programdata\\anaconda3\\envs\\crp-yolo\\lib\\site-packages (from tensorboard>=2.2.0->pytorch-lightning==1.6.1->ratsnlp) (0.4.6)\n",
            "Requirement already satisfied: tensorboard-data-server<0.7.0,>=0.6.0 in c:\\programdata\\anaconda3\\envs\\crp-yolo\\lib\\site-packages (from tensorboard>=2.2.0->pytorch-lightning==1.6.1->ratsnlp) (0.6.1)\n",
            "Requirement already satisfied: markdown>=2.6.8 in c:\\programdata\\anaconda3\\envs\\crp-yolo\\lib\\site-packages (from tensorboard>=2.2.0->pytorch-lightning==1.6.1->ratsnlp) (3.3.7)\n",
            "Requirement already satisfied: google-auth<3,>=1.6.3 in c:\\users\\bitcamp\\appdata\\roaming\\python\\python38\\site-packages (from tensorboard>=2.2.0->pytorch-lightning==1.6.1->ratsnlp) (1.35.0)\n",
            "Requirement already satisfied: tensorboard-plugin-wit>=1.6.0 in c:\\programdata\\anaconda3\\envs\\crp-yolo\\lib\\site-packages (from tensorboard>=2.2.0->pytorch-lightning==1.6.1->ratsnlp) (1.8.1)\n",
            "Requirement already satisfied: grpcio>=1.24.3 in c:\\programdata\\anaconda3\\envs\\crp-yolo\\lib\\site-packages (from tensorboard>=2.2.0->pytorch-lightning==1.6.1->ratsnlp) (1.47.0)\n",
            "Requirement already satisfied: wheel>=0.26 in c:\\programdata\\anaconda3\\envs\\crp-yolo\\lib\\site-packages (from tensorboard>=2.2.0->pytorch-lightning==1.6.1->ratsnlp) (0.37.1)\n",
            "Requirement already satisfied: protobuf<3.20,>=3.9.2 in c:\\programdata\\anaconda3\\envs\\crp-yolo\\lib\\site-packages (from tensorboard>=2.2.0->pytorch-lightning==1.6.1->ratsnlp) (3.19.4)\n",
            "Requirement already satisfied: absl-py>=0.4 in c:\\programdata\\anaconda3\\envs\\crp-yolo\\lib\\site-packages (from tensorboard>=2.2.0->pytorch-lightning==1.6.1->ratsnlp) (1.1.0)\n",
            "Requirement already satisfied: cachetools<5.0,>=2.0.0 in c:\\users\\bitcamp\\appdata\\roaming\\python\\python38\\site-packages (from google-auth<3,>=1.6.3->tensorboard>=2.2.0->pytorch-lightning==1.6.1->ratsnlp) (4.2.4)\n",
            "Requirement already satisfied: rsa<5,>=3.1.4 in c:\\programdata\\anaconda3\\envs\\crp-yolo\\lib\\site-packages (from google-auth<3,>=1.6.3->tensorboard>=2.2.0->pytorch-lightning==1.6.1->ratsnlp) (4.8)\n",
            "Requirement already satisfied: pyasn1-modules>=0.2.1 in c:\\programdata\\anaconda3\\envs\\crp-yolo\\lib\\site-packages (from google-auth<3,>=1.6.3->tensorboard>=2.2.0->pytorch-lightning==1.6.1->ratsnlp) (0.2.8)\n",
            "Requirement already satisfied: requests-oauthlib>=0.7.0 in c:\\programdata\\anaconda3\\envs\\crp-yolo\\lib\\site-packages (from google-auth-oauthlib<0.5,>=0.4.1->tensorboard>=2.2.0->pytorch-lightning==1.6.1->ratsnlp) (1.3.1)\n",
            "Requirement already satisfied: pyasn1<0.5.0,>=0.4.6 in c:\\programdata\\anaconda3\\envs\\crp-yolo\\lib\\site-packages (from pyasn1-modules>=0.2.1->google-auth<3,>=1.6.3->tensorboard>=2.2.0->pytorch-lightning==1.6.1->ratsnlp) (0.4.8)\n",
            "Requirement already satisfied: oauthlib>=3.0.0 in c:\\programdata\\anaconda3\\envs\\crp-yolo\\lib\\site-packages (from requests-oauthlib>=0.7.0->google-auth-oauthlib<0.5,>=0.4.1->tensorboard>=2.2.0->pytorch-lightning==1.6.1->ratsnlp) (3.2.0)\n",
            "Requirement already satisfied: aiosignal>=1.1.2 in c:\\programdata\\anaconda3\\envs\\crp-yolo\\lib\\site-packages (from aiohttp->fsspec[http]!=2021.06.0,>=2021.05.0->pytorch-lightning==1.6.1->ratsnlp) (1.2.0)\n",
            "Requirement already satisfied: frozenlist>=1.1.1 in c:\\programdata\\anaconda3\\envs\\crp-yolo\\lib\\site-packages (from aiohttp->fsspec[http]!=2021.06.0,>=2021.05.0->pytorch-lightning==1.6.1->ratsnlp) (1.3.0)\n",
            "Requirement already satisfied: attrs>=17.3.0 in c:\\programdata\\anaconda3\\envs\\crp-yolo\\lib\\site-packages (from aiohttp->fsspec[http]!=2021.06.0,>=2021.05.0->pytorch-lightning==1.6.1->ratsnlp) (21.4.0)\n",
            "Requirement already satisfied: multidict<7.0,>=4.5 in c:\\programdata\\anaconda3\\envs\\crp-yolo\\lib\\site-packages (from aiohttp->fsspec[http]!=2021.06.0,>=2021.05.0->pytorch-lightning==1.6.1->ratsnlp) (6.0.2)\n",
            "Requirement already satisfied: async-timeout<5.0,>=4.0.0a3 in c:\\programdata\\anaconda3\\envs\\crp-yolo\\lib\\site-packages (from aiohttp->fsspec[http]!=2021.06.0,>=2021.05.0->pytorch-lightning==1.6.1->ratsnlp) (4.0.2)\n",
            "Requirement already satisfied: yarl<2.0,>=1.0 in c:\\programdata\\anaconda3\\envs\\crp-yolo\\lib\\site-packages (from aiohttp->fsspec[http]!=2021.06.0,>=2021.05.0->pytorch-lightning==1.6.1->ratsnlp) (1.7.2)\n",
            "Requirement already satisfied: joblib in c:\\programdata\\anaconda3\\envs\\crp-yolo\\lib\\site-packages (from sacremoses->transformers==4.10.0->ratsnlp) (1.1.0)\n"
          ]
        }
      ],
      "source": [
        "!pip install ratsnlp"
      ]
    },
    {
      "cell_type": "markdown",
      "metadata": {
        "id": "LvPQbN7vs50o"
      },
      "source": [
        "# 구글 드라이브 연동하기\n",
        "\n",
        "이번 튜토리얼에서 구축할 어휘 집합을 저장해 둘 구글 드라이브를 연결합니다. 자신의 구글 계정에 적용됩니다."
      ]
    },
    {
      "cell_type": "code",
      "execution_count": 10,
      "metadata": {
        "id": "EpjMKSVWs6B2"
      },
      "outputs": [],
      "source": [
        "#from google.colab import drive\n",
        "#drive.mount('/gdrive', force_remount=True)"
      ]
    },
    {
      "cell_type": "markdown",
      "metadata": {
        "id": "TFt_JLYoTKA6"
      },
      "source": [
        "## 말뭉치 다운로드 및 전처리\n",
        "\n",
        "오픈소스 파이썬 패키지 코포라(Korpora)를 활용해 BPE 수행 대상 말뭉치를 내려받고 전처리합니다. 실습용 말뭉치는 박은정 님이 공개하신 Naver Sentiment Movie Corpus(NSMC)입니다.\n",
        "\n",
        "다음을 수행해 데이터를 내려받아 `nsmc`라는 변수로 읽어들입니다."
      ]
    },
    {
      "cell_type": "code",
      "execution_count": 11,
      "metadata": {
        "id": "bThW-2OrTHZW"
      },
      "outputs": [
        {
          "name": "stdout",
          "output_type": "stream",
          "text": [
            "\n",
            "    Korpora 는 다른 분들이 연구 목적으로 공유해주신 말뭉치들을\n",
            "    손쉽게 다운로드, 사용할 수 있는 기능만을 제공합니다.\n",
            "\n",
            "    말뭉치들을 공유해 주신 분들에게 감사드리며, 각 말뭉치 별 설명과 라이센스를 공유 드립니다.\n",
            "    해당 말뭉치에 대해 자세히 알고 싶으신 분은 아래의 description 을 참고,\n",
            "    해당 말뭉치를 연구/상용의 목적으로 이용하실 때에는 아래의 라이센스를 참고해 주시기 바랍니다.\n",
            "\n",
            "    # Description\n",
            "    Author : e9t@github\n",
            "    Repository : https://github.com/e9t/nsmc\n",
            "    References : www.lucypark.kr/docs/2015-pyconkr/#39\n",
            "\n",
            "    Naver sentiment movie corpus v1.0\n",
            "    This is a movie review dataset in the Korean language.\n",
            "    Reviews were scraped from Naver Movies.\n",
            "\n",
            "    The dataset construction is based on the method noted in\n",
            "    [Large movie review dataset][^1] from Maas et al., 2011.\n",
            "\n",
            "    [^1]: http://ai.stanford.edu/~amaas/data/sentiment/\n",
            "\n",
            "    # License\n",
            "    CC0 1.0 Universal (CC0 1.0) Public Domain Dedication\n",
            "    Details in https://creativecommons.org/publicdomain/zero/1.0/\n",
            "\n"
          ]
        },
        {
          "name": "stderr",
          "output_type": "stream",
          "text": [
            "[nsmc] download ratings_train.txt: 14.6MB [00:00, 71.9MB/s]                            \n",
            "[nsmc] download ratings_test.txt: 4.90MB [00:00, 45.4MB/s]                            \n"
          ]
        }
      ],
      "source": [
        "from Korpora import Korpora\n",
        "nsmc = Korpora.load(\"nsmc\", force_download=True)"
      ]
    },
    {
      "cell_type": "markdown",
      "metadata": {
        "id": "K0NCnzpRTdnJ"
      },
      "source": [
        "다음을 수행하면 NSMC에 포함된 영화 리뷰(순수 텍스트)들을 지정된 경로에 저장해 둡니다."
      ]
    },
    {
      "cell_type": "code",
      "execution_count": 12,
      "metadata": {
        "id": "FSVDbnFUTiXx"
      },
      "outputs": [],
      "source": [
        "import os\n",
        "def write_lines(path, lines):\n",
        "    with open(path, 'w', encoding='utf-8') as f:\n",
        "        for line in lines:\n",
        "            f.write(f'{line}\\n')\n",
        "\n",
        "write_lines(\"../save/train.txt\", nsmc.train.get_all_texts())\n",
        "write_lines(\"../save/test.txt\", nsmc.test.get_all_texts())"
      ]
    },
    {
      "cell_type": "markdown",
      "metadata": {
        "id": "sWboOauTTyXp"
      },
      "source": [
        "`train.txt`의 앞부분은 다음과 같이 생겼습니다."
      ]
    },
    {
      "cell_type": "code",
      "execution_count": 13,
      "metadata": {
        "id": "tup5LreLT4vE"
      },
      "outputs": [
        {
          "name": "stderr",
          "output_type": "stream",
          "text": [
            "'head'��(��) ���� �Ǵ� �ܺ� ����, ������ �� �ִ� ���α׷�, �Ǵ�\n",
            "��ġ ������ �ƴմϴ�.\n"
          ]
        }
      ],
      "source": [
        "!head train.txt"
      ]
    },
    {
      "cell_type": "markdown",
      "metadata": {
        "id": "dMKHuGgyT8aw"
      },
      "source": [
        "`test.txt`의 앞부분은 다음과 같이 생겼습니다."
      ]
    },
    {
      "cell_type": "code",
      "execution_count": 14,
      "metadata": {
        "id": "nI5EpyyaT_fl"
      },
      "outputs": [
        {
          "name": "stderr",
          "output_type": "stream",
          "text": [
            "'head'��(��) ���� �Ǵ� �ܺ� ����, ������ �� �ִ� ���α׷�, �Ǵ�\n",
            "��ġ ������ �ƴմϴ�.\n"
          ]
        }
      ],
      "source": [
        "!head test.txt"
      ]
    },
    {
      "cell_type": "markdown",
      "metadata": {
        "id": "8Y2JYqRGUFll"
      },
      "source": [
        "## GPT 토크나이저 구축\n",
        "\n",
        "GPT 계열 모델이 사용하는 토크나이저는 Byte-level Byte Pair Encoding(BBPE)입니다. 우선 어휘집합 구축 결과를 저장해둘 디렉토리를 자신의 구글 드라이브 계정 내 `내 드라이브/nlpbook/bbpe`로 만들어 둡니다."
      ]
    },
    {
      "cell_type": "code",
      "execution_count": 15,
      "metadata": {
        "id": "HMsp3GRVuGg7"
      },
      "outputs": [],
      "source": [
        "import os\n",
        "os.makedirs(\"/gdrive/My Drive/nlpbook/bbpe\", exist_ok=True)"
      ]
    },
    {
      "cell_type": "markdown",
      "metadata": {
        "id": "Z2jwK4iwvB1l"
      },
      "source": [
        "다음을 수행하면 `nsmc` 데이터를 가지고 BBPE 어휘집합을 구축합니다. BBPE 어휘집합 구축에 시간이 걸리니 잠시 기다려주세요. "
      ]
    },
    {
      "cell_type": "code",
      "execution_count": 16,
      "metadata": {
        "id": "9Rk2Ga65USFb"
      },
      "outputs": [
        {
          "data": {
            "text/plain": [
              "['/gdrive/My Drive/nlpbook/bbpe\\\\vocab.json',\n",
              " '/gdrive/My Drive/nlpbook/bbpe\\\\merges.txt']"
            ]
          },
          "execution_count": 16,
          "metadata": {},
          "output_type": "execute_result"
        }
      ],
      "source": [
        "from tokenizers import ByteLevelBPETokenizer\n",
        "bytebpe_tokenizer = ByteLevelBPETokenizer()\n",
        "bytebpe_tokenizer.train(\n",
        "    files=[\"../content/train.txt\", \"../content/test.txt\"],\n",
        "    vocab_size=10000,\n",
        "    special_tokens=[\"[PAD]\"]\n",
        ")\n",
        "bytebpe_tokenizer.save_model(\"/gdrive/My Drive/nlpbook/bbpe\")"
      ]
    },
    {
      "cell_type": "markdown",
      "metadata": {
        "id": "wLq1JRVJUb7U"
      },
      "source": [
        "위의 코드 수행이 끝나면 자신의 구글 드라이브 경로(`/gdrive/My Drive/nlpbook/bbpe`)에 `vocab.json`과 `merges.txt`가 생성됩니다. 전자는 바이트 레벨 BPE의 어휘 집합이며 후자는 바이그램 쌍의 병합 우선순위입니다. \n",
        "\n",
        "`vocab.json`은 다음과 같이 생겼습니다."
      ]
    },
    {
      "cell_type": "code",
      "execution_count": 17,
      "metadata": {
        "id": "XZl8OKdsVIQg"
      },
      "outputs": [
        {
          "name": "stderr",
          "output_type": "stream",
          "text": [
            "'cat'��(��) ���� �Ǵ� �ܺ� ����, ������ �� �ִ� ���α׷�, �Ǵ�\n",
            "��ġ ������ �ƴմϴ�.\n"
          ]
        }
      ],
      "source": [
        "!cat /gdrive/My\\ Drive/nlpbook/bbpe/vocab.json"
      ]
    },
    {
      "cell_type": "markdown",
      "metadata": {
        "id": "etZsJ4SrVXnS"
      },
      "source": [
        "`merges.txt`의 앞부분은 다음과 같이 생겼습니다."
      ]
    },
    {
      "cell_type": "code",
      "execution_count": 18,
      "metadata": {
        "id": "LzkJ31vQVbjl"
      },
      "outputs": [
        {
          "name": "stderr",
          "output_type": "stream",
          "text": [
            "'head'��(��) ���� �Ǵ� �ܺ� ����, ������ �� �ִ� ���α׷�, �Ǵ�\n",
            "��ġ ������ �ƴմϴ�.\n"
          ]
        }
      ],
      "source": [
        "!head /gdrive/My\\ Drive/nlpbook/bbpe/merges.txt"
      ]
    },
    {
      "cell_type": "markdown",
      "metadata": {
        "id": "wR-3V6zIVsPp"
      },
      "source": [
        "## BERT 토크나이저 구축\n",
        "\n",
        "BERT는 워드피스(wordpiece) 토크나이저를 사용합니다. 우선 어휘집합 구축 결과를 저장해둘 디렉토리를 자신의 구글 드라이브 계정 내 `내 드라이브/nlpbook/bbpe`로 만들어 둡니다.\n"
      ]
    },
    {
      "cell_type": "code",
      "execution_count": 19,
      "metadata": {
        "id": "aObMCetww3YU"
      },
      "outputs": [],
      "source": [
        "import os\n",
        "os.makedirs(\"/gdrive/My Drive/nlpbook/wordpiece\", exist_ok=True)"
      ]
    },
    {
      "cell_type": "markdown",
      "metadata": {
        "id": "jzmRa-NPw3l_"
      },
      "source": [
        "다음을 수행하면 BERT 모델이 사용하는 워드피스 어휘집합을 구축할 수 있습니다. 워드피스 어휘집합 구축에 시간이 걸리니 잠시만 기다려주세요."
      ]
    },
    {
      "cell_type": "code",
      "execution_count": 20,
      "metadata": {
        "id": "FdvUPuJoV3w3"
      },
      "outputs": [
        {
          "data": {
            "text/plain": [
              "['/gdrive/My Drive/nlpbook/wordpiece\\\\vocab.txt']"
            ]
          },
          "execution_count": 20,
          "metadata": {},
          "output_type": "execute_result"
        }
      ],
      "source": [
        "from tokenizers import BertWordPieceTokenizer\n",
        "wordpiece_tokenizer = BertWordPieceTokenizer(lowercase=False)\n",
        "wordpiece_tokenizer.train(\n",
        "    files=[\"../content/train.txt\", \"../content/test.txt\"],\n",
        "    vocab_size=10000,\n",
        ")\n",
        "wordpiece_tokenizer.save_model(\"/gdrive/My Drive/nlpbook/wordpiece\")"
      ]
    },
    {
      "cell_type": "markdown",
      "metadata": {
        "id": "W0S2EbdkWIdq"
      },
      "source": [
        "위의 코드 수행이 끝나면 자신의 구글 드라이브 경로(`/gdrive/My Drive/nlpbook/wordpiece`)에 `vocab.txt`가 생성됩니다. `vocab.txt`의 앞부분은 다음과 같이 생겼습니다."
      ]
    },
    {
      "cell_type": "code",
      "execution_count": 21,
      "metadata": {
        "id": "YOWkywHaWOL6"
      },
      "outputs": [
        {
          "name": "stderr",
          "output_type": "stream",
          "text": [
            "'head'��(��) ���� �Ǵ� �ܺ� ����, ������ �� �ִ� ���α׷�, �Ǵ�\n",
            "��ġ ������ �ƴմϴ�.\n"
          ]
        }
      ],
      "source": [
        "!head /gdrive/My\\ Drive/nlpbook/wordpiece/vocab.txt"
      ]
    }
  ],
  "metadata": {
    "colab": {
      "collapsed_sections": [],
      "name": "vocab.ipynb",
      "provenance": []
    },
    "kernelspec": {
      "display_name": "Python 3.8.13 ('crp-yolo')",
      "language": "python",
      "name": "python3"
    },
    "language_info": {
      "codemirror_mode": {
        "name": "ipython",
        "version": 3
      },
      "file_extension": ".py",
      "mimetype": "text/x-python",
      "name": "python",
      "nbconvert_exporter": "python",
      "pygments_lexer": "ipython3",
      "version": "3.8.13"
    },
    "vscode": {
      "interpreter": {
        "hash": "85655d326657acff456c3f00d35448c6c67e6a1f13b4085d359f5fec2477f390"
      }
    }
  },
  "nbformat": 4,
  "nbformat_minor": 0
}
